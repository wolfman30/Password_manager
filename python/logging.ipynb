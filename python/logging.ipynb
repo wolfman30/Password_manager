{
 "cells": [
  {
   "cell_type": "code",
   "execution_count": 1,
   "metadata": {},
   "outputs": [],
   "source": [
    "import logging"
   ]
  },
  {
   "cell_type": "code",
   "execution_count": 8,
   "metadata": {},
   "outputs": [
    {
     "name": "stdout",
     "output_type": "stream",
     "text": [
      "Enter a number: 10\n",
      "Enter another number: STRING\n"
     ]
    }
   ],
   "source": [
    "logging.basicConfig(filename='log.txt', level = logging.ERROR)\n",
    "try: \n",
    "    a = int(input('Enter a number: '))\n",
    "    b = int(input('Enter another number: '))\n",
    "    c = a / b\n",
    "    \n",
    "except Exception as e: \n",
    "    logging.exception(e)\n",
    "\n",
    "else:\n",
    "    print('The result of division is {}'.format(c))"
   ]
  },
  {
   "cell_type": "code",
   "execution_count": null,
   "metadata": {},
   "outputs": [],
   "source": []
  }
 ],
 "metadata": {
  "kernelspec": {
   "display_name": "Python 3",
   "language": "python",
   "name": "python3"
  },
  "language_info": {
   "codemirror_mode": {
    "name": "ipython",
    "version": 3
   },
   "file_extension": ".py",
   "mimetype": "text/x-python",
   "name": "python",
   "nbconvert_exporter": "python",
   "pygments_lexer": "ipython3",
   "version": "3.7.1"
  }
 },
 "nbformat": 4,
 "nbformat_minor": 2
}
