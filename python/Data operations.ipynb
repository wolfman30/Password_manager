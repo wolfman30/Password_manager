{
 "cells": [
  {
   "cell_type": "code",
   "execution_count": 2,
   "metadata": {},
   "outputs": [
    {
     "name": "stdout",
     "output_type": "stream",
     "text": [
      "Data type of num1: <class 'int'>\n",
      "Data type of num2 before type casting: <class 'str'>\n"
     ]
    }
   ],
   "source": [
    "num1 = 42\n",
    "num2 = '25'\n",
    "print(\"Data type of num1: {}\".format(type(num1)))\n",
    "print(\"Data type of num2 before type casting: {}\".format(type(num2)))"
   ]
  },
  {
   "cell_type": "code",
   "execution_count": 6,
   "metadata": {},
   "outputs": [
    {
     "name": "stdout",
     "output_type": "stream",
     "text": [
      "Data type of num2 after type casting <class 'int'>\n",
      "Addition of num1 and num2 = 67\n",
      "Data type of add is <class 'int'>\n"
     ]
    }
   ],
   "source": [
    "num2 = int(num2)\n",
    "print(f\"Data type of num2 after type casting {type(num2)}\")\n",
    "\n",
    "add = num1 + num2\n",
    "print(\"Addition of num1 and num2 = {}\".format(add))\n",
    "print(\"Data type of add is {}\".format(type(add)))"
   ]
  },
  {
   "cell_type": "code",
   "execution_count": null,
   "metadata": {},
   "outputs": [],
   "source": []
  }
 ],
 "metadata": {
  "kernelspec": {
   "display_name": "Python 3",
   "language": "python",
   "name": "python3"
  },
  "language_info": {
   "codemirror_mode": {
    "name": "ipython",
    "version": 3
   },
   "file_extension": ".py",
   "mimetype": "text/x-python",
   "name": "python",
   "nbconvert_exporter": "python",
   "pygments_lexer": "ipython3",
   "version": "3.7.1"
  }
 },
 "nbformat": 4,
 "nbformat_minor": 2
}
